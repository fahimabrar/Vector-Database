{
 "cells": [
  {
   "cell_type": "code",
   "execution_count": 11,
   "id": "abd5b19d",
   "metadata": {},
   "outputs": [],
   "source": [
    "import sqlite3\n",
    "import numpy as np"
   ]
  },
  {
   "cell_type": "code",
   "execution_count": 12,
   "id": "018e691a",
   "metadata": {},
   "outputs": [],
   "source": [
    "conn  = sqlite3.connect('sim_search.db')\n",
    "cursor = conn.cursor()"
   ]
  },
  {
   "cell_type": "code",
   "execution_count": 13,
   "id": "0b840510",
   "metadata": {},
   "outputs": [
    {
     "data": {
      "text/plain": [
       "dtype('float64')"
      ]
     },
     "execution_count": 13,
     "metadata": {},
     "output_type": "execute_result"
    }
   ],
   "source": [
    "vector1 = np.array([1.0, 2.0, 3.3])\n",
    "vector2 = np.array([10, 34, 576.32])\n",
    "vector2.dtype\n"
   ]
  },
  {
   "cell_type": "code",
   "execution_count": 14,
   "id": "981b6799",
   "metadata": {},
   "outputs": [
    {
     "data": {
      "text/plain": [
       "<sqlite3.Cursor at 0x1b847adbf10>"
      ]
     },
     "execution_count": 14,
     "metadata": {},
     "output_type": "execute_result"
    }
   ],
   "source": [
    "cursor.execute(\"\"\"\n",
    "CREATE TABLE IF NOT EXISTS s_search(\n",
    "Id INTEGER, \n",
    "items BLOB NOT NULL\n",
    ")\n",
    "\"\"\")"
   ]
  },
  {
   "cell_type": "code",
   "execution_count": 15,
   "id": "3e1e3c19",
   "metadata": {},
   "outputs": [
    {
     "data": {
      "text/plain": [
       "<sqlite3.Cursor at 0x1b847adbf10>"
      ]
     },
     "execution_count": 15,
     "metadata": {},
     "output_type": "execute_result"
    }
   ],
   "source": [
    "cursor.execute(\n",
    "    \"INSERT INTO s_search(items) VALUES(?)\", (sqlite3.Binary(vector1.tobytes()), )\n",
    ")\n",
    "\n",
    "cursor.execute(\n",
    "    \"INSERT INTO s_search(items) VALUES(?)\", (sqlite3.Binary(vector2.tobytes()), )\n",
    ")"
   ]
  },
  {
   "cell_type": "markdown",
   "id": "c9683e6d",
   "metadata": {},
   "source": [
    "## Lets have some query"
   ]
  },
  {
   "cell_type": "code",
   "execution_count": 20,
   "id": "5bdf86a6",
   "metadata": {},
   "outputs": [
    {
     "data": {
      "text/plain": [
       "<sqlite3.Cursor at 0x1b847adbf10>"
      ]
     },
     "execution_count": 20,
     "metadata": {},
     "output_type": "execute_result"
    }
   ],
   "source": [
    "query_vector = np.array([1.1, 2.2,  3.3])\n",
    "\n",
    "cursor.execute(\"SELECT items from s_search ORDER BY abs(items -?) ASC\",\n",
    "              (sqlite3.Binary(query_vector.tobytes()), ))\n",
    "\n",
    "#minimum distance is calcuated with the query vector\n",
    "#sort the result in ascending order\n",
    "#and fected"
   ]
  },
  {
   "cell_type": "code",
   "execution_count": 18,
   "id": "330756bf",
   "metadata": {},
   "outputs": [],
   "source": [
    "result = cursor.fetchone()[0]"
   ]
  },
  {
   "cell_type": "code",
   "execution_count": 19,
   "id": "b54e28a2",
   "metadata": {},
   "outputs": [
    {
     "data": {
      "text/plain": [
       "array([1. , 2. , 3.3])"
      ]
     },
     "execution_count": 19,
     "metadata": {},
     "output_type": "execute_result"
    }
   ],
   "source": [
    "np.frombuffer(result, dtype = vector1.dtype)"
   ]
  },
  {
   "cell_type": "code",
   "execution_count": null,
   "id": "52601a4b",
   "metadata": {},
   "outputs": [],
   "source": [
    "## It selected the first vector that is very similar to query vector"
   ]
  }
 ],
 "metadata": {
  "kernelspec": {
   "display_name": "Python 3 (ipykernel)",
   "language": "python",
   "name": "python3"
  },
  "language_info": {
   "codemirror_mode": {
    "name": "ipython",
    "version": 3
   },
   "file_extension": ".py",
   "mimetype": "text/x-python",
   "name": "python",
   "nbconvert_exporter": "python",
   "pygments_lexer": "ipython3",
   "version": "3.9.12"
  }
 },
 "nbformat": 4,
 "nbformat_minor": 5
}
