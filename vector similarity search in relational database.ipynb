{
 "cells": [
  {
   "cell_type": "markdown",
   "id": "b3b9bcab",
   "metadata": {},
   "source": [
    "Steps,\n",
    "\n",
    "- create a sqlite database\n",
    "- connect with the database\n",
    "- create a table in the database\n",
    "- insert two vector in the table\n",
    "- find most similar vector of a query vector using distance \n"
   ]
  },
  {
   "cell_type": "code",
   "execution_count": 1,
   "id": "3bf47b56",
   "metadata": {},
   "outputs": [],
   "source": [
    "import sqlite3\n",
    "import numpy as np"
   ]
  },
  {
   "cell_type": "code",
   "execution_count": 2,
   "id": "0c8832b3",
   "metadata": {},
   "outputs": [],
   "source": [
    "conn  = sqlite3.connect('database/sim_search.db')\n",
    "cursor = conn.cursor()"
   ]
  },
  {
   "cell_type": "code",
   "execution_count": 3,
   "id": "83beb443",
   "metadata": {},
   "outputs": [
    {
     "data": {
      "text/plain": [
       "dtype('float64')"
      ]
     },
     "execution_count": 3,
     "metadata": {},
     "output_type": "execute_result"
    }
   ],
   "source": [
    "vector1 = np.array([1.0, 2.0, 3.3])\n",
    "vector2 = np.array([10, 34, 576.32])\n",
    "vector2.dtype\n"
   ]
  },
  {
   "cell_type": "code",
   "execution_count": 4,
   "id": "00d6deec",
   "metadata": {},
   "outputs": [
    {
     "data": {
      "text/plain": [
       "<sqlite3.Cursor at 0x20c8e09ef80>"
      ]
     },
     "execution_count": 4,
     "metadata": {},
     "output_type": "execute_result"
    }
   ],
   "source": [
    "cursor.execute(\"\"\"\n",
    "CREATE TABLE IF NOT EXISTS s_search(\n",
    "Id INTEGER, \n",
    "items BLOB NOT NULL\n",
    ")\n",
    "\"\"\")"
   ]
  },
  {
   "cell_type": "code",
   "execution_count": 5,
   "id": "e02f24ae",
   "metadata": {},
   "outputs": [
    {
     "data": {
      "text/plain": [
       "<sqlite3.Cursor at 0x20c8e09ef80>"
      ]
     },
     "execution_count": 5,
     "metadata": {},
     "output_type": "execute_result"
    }
   ],
   "source": [
    "cursor.execute(\n",
    "    \"INSERT INTO s_search(items) VALUES(?)\", (sqlite3.Binary(vector1.tobytes()), )\n",
    ")\n",
    "\n",
    "cursor.execute(\n",
    "    \"INSERT INTO s_search(items) VALUES(?)\", (sqlite3.Binary(vector2.tobytes()), )\n",
    ")"
   ]
  },
  {
   "cell_type": "markdown",
   "id": "a8af67ca",
   "metadata": {},
   "source": [
    "## Lets have some query"
   ]
  },
  {
   "cell_type": "code",
   "execution_count": 6,
   "id": "49d87c79",
   "metadata": {},
   "outputs": [
    {
     "data": {
      "text/plain": [
       "<sqlite3.Cursor at 0x20c8e09ef80>"
      ]
     },
     "execution_count": 6,
     "metadata": {},
     "output_type": "execute_result"
    }
   ],
   "source": [
    "query_vector = np.array([1.1, 2.2,  3.3])\n",
    "\n",
    "cursor.execute(\"SELECT items from s_search ORDER BY abs(items -?) ASC\",\n",
    "              (sqlite3.Binary(query_vector.tobytes()), ))\n",
    "\n",
    "#minimum distance is calcuated with the query vector\n",
    "#sort the result in ascending order\n",
    "#and fected"
   ]
  },
  {
   "cell_type": "code",
   "execution_count": 7,
   "id": "a3bc2b62",
   "metadata": {},
   "outputs": [],
   "source": [
    "result = cursor.fetchone()[0]"
   ]
  },
  {
   "cell_type": "code",
   "execution_count": 8,
   "id": "d89ddd49",
   "metadata": {},
   "outputs": [
    {
     "data": {
      "text/plain": [
       "array([1. , 2. , 3.3])"
      ]
     },
     "execution_count": 8,
     "metadata": {},
     "output_type": "execute_result"
    }
   ],
   "source": [
    "np.frombuffer(result, dtype = vector1.dtype)"
   ]
  },
  {
   "cell_type": "code",
   "execution_count": 9,
   "id": "20b2d9a4",
   "metadata": {},
   "outputs": [],
   "source": [
    "## It selected the first vector that is very similar to query vector"
   ]
  }
 ],
 "metadata": {
  "kernelspec": {
   "display_name": "Python 3 (ipykernel)",
   "language": "python",
   "name": "python3"
  },
  "language_info": {
   "codemirror_mode": {
    "name": "ipython",
    "version": 3
   },
   "file_extension": ".py",
   "mimetype": "text/x-python",
   "name": "python",
   "nbconvert_exporter": "python",
   "pygments_lexer": "ipython3",
   "version": "3.9.12"
  }
 },
 "nbformat": 4,
 "nbformat_minor": 5
}
